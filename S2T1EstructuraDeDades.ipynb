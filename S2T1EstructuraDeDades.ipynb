{
 "cells": [
  {
   "cell_type": "markdown",
   "id": "9c06d4c9",
   "metadata": {},
   "source": [
    "# Spring 2 Tasca1: Estructura de dades"
   ]
  },
  {
   "cell_type": "markdown",
   "id": "620eff7c",
   "metadata": {},
   "source": [
    "**Exercici 1:**\n",
    "- Crea una llista que agrupi els mesos de l’any en trimestres (1T: Gener, Febrer i Març, 2T: Abril, Maig, Juny...), és a dir, una llista amb 4 llistes dins."
   ]
  },
  {
   "cell_type": "code",
   "execution_count": 6,
   "id": "95b3b356",
   "metadata": {},
   "outputs": [
    {
     "name": "stdout",
     "output_type": "stream",
     "text": [
      "[['January', 'Febrery', 'March'], ['April', 'May', 'June'], ['July', 'August', 'Septembre'], ['October', 'November', 'Desember']]\n"
     ]
    }
   ],
   "source": [
    "quarterList=[\n",
    "    [\"January\", \"Febrery\", \"March\"],\n",
    "    [\"April\", \"May\", \"June\"],\n",
    "    [\"July\", \"August\", \"Septembre\"],\n",
    "    [\"October\", \"November\",\"Desember\"]\n",
    "]\n",
    "\n",
    "print(quarterList)"
   ]
  },
  {
   "cell_type": "markdown",
   "id": "53a9a1a8",
   "metadata": {},
   "source": [
    "**Exercici 2:** \n",
    "  - Crea un codi que et permeti accedir a:\n",
    "    - El segon més del primer trimestre\n",
    "    - Els mesos del primer trimestre\n",
    "    - Setembre i octubre"
   ]
  },
  {
   "cell_type": "code",
   "execution_count": 11,
   "id": "c86a0634",
   "metadata": {},
   "outputs": [
    {
     "name": "stdout",
     "output_type": "stream",
     "text": [
      "Febrery\n"
     ]
    }
   ],
   "source": [
    "print(quarterList[0][1])"
   ]
  },
  {
   "cell_type": "code",
   "execution_count": 12,
   "id": "b18b776c",
   "metadata": {},
   "outputs": [
    {
     "name": "stdout",
     "output_type": "stream",
     "text": [
      "['January', 'Febrery', 'March']\n"
     ]
    }
   ],
   "source": [
    "print(quarterList[0])"
   ]
  },
  {
   "cell_type": "code",
   "execution_count": 15,
   "id": "04b5660f",
   "metadata": {},
   "outputs": [
    {
     "name": "stdout",
     "output_type": "stream",
     "text": [
      "Septembre and October\n"
     ]
    }
   ],
   "source": [
    "print(quarterList[2][-1] + \" and \" + quarterList[3][0])"
   ]
  },
  {
   "cell_type": "markdown",
   "id": "a325febd",
   "metadata": {},
   "source": [
    "**Exercici 3:**\n",
    "  - Crea una llista amb nombres desordenats i respon a les següents preguntes:\n",
    "    - Quants números hi ha?\n",
    "    - Quantes vegades apareix el número 3\n",
    "    - Quantes vegades apareixen els nombres 3 i 4?\n",
    "    - Quin és el número més gran?\n",
    "    - Quins són els 3 números més petits?\n",
    "    - Quin és el rang d’aquesta llista?"
   ]
  },
  {
   "cell_type": "code",
   "execution_count": 20,
   "id": "f77bf364",
   "metadata": {},
   "outputs": [
    {
     "name": "stdout",
     "output_type": "stream",
     "text": [
      "[7, 64, 68, 9, 25, 10, 38, 84, 12, 3, 39, 41, 67, 22, 81]\n"
     ]
    }
   ],
   "source": [
    "import random\n",
    "randomList= []\n",
    "\n",
    "for i in range(0,15):\n",
    "    randomList.append(random.randint(0,101))\n",
    "print(randomList)"
   ]
  },
  {
   "cell_type": "code",
   "execution_count": 31,
   "id": "80bd37a6",
   "metadata": {},
   "outputs": [
    {
     "name": "stdout",
     "output_type": "stream",
     "text": [
      "There are 15 numbers in the list.\n"
     ]
    }
   ],
   "source": [
    "print( \"There are \" + str(len(randomList)) + \" numbers in the list.\")"
   ]
  },
  {
   "cell_type": "code",
   "execution_count": 36,
   "id": "d02fbbea",
   "metadata": {},
   "outputs": [
    {
     "name": "stdout",
     "output_type": "stream",
     "text": [
      "Number '3' appears 1 time in the list.\n"
     ]
    }
   ],
   "source": [
    "print( f\"Number '3' appears {randomList.count(3)} time in the list.\")"
   ]
  },
  {
   "cell_type": "code",
   "execution_count": 40,
   "id": "cbc10204",
   "metadata": {},
   "outputs": [
    {
     "name": "stdout",
     "output_type": "stream",
     "text": [
      "Number '3' and '4' appear 1 time in the list.\n"
     ]
    }
   ],
   "source": [
    "print( f\"Number '3' and '4' appear {randomList.count(3)+randomList.count(4)} time in the list.\")"
   ]
  },
  {
   "cell_type": "code",
   "execution_count": 42,
   "id": "f3915aa3",
   "metadata": {},
   "outputs": [
    {
     "name": "stdout",
     "output_type": "stream",
     "text": [
      "The biggest number is 84.\n"
     ]
    }
   ],
   "source": [
    "print( f\"The biggest number is {max(randomList)}.\")"
   ]
  },
  {
   "cell_type": "code",
   "execution_count": 44,
   "id": "3af55f0a",
   "metadata": {},
   "outputs": [
    {
     "name": "stdout",
     "output_type": "stream",
     "text": [
      "The smallest three number are [3, 7, 9].\n"
     ]
    }
   ],
   "source": [
    "print( f\"The smallest three number are {sorted(randomList)[0:3]}.\")"
   ]
  },
  {
   "cell_type": "code",
   "execution_count": 45,
   "id": "cb11343d",
   "metadata": {},
   "outputs": [
    {
     "name": "stdout",
     "output_type": "stream",
     "text": [
      "The range from this list is 81.\n"
     ]
    }
   ],
   "source": [
    "print( f\"The range from this list is {max(randomList)-min(randomList)}.\")"
   ]
  },
  {
   "cell_type": "markdown",
   "id": "b8e1986f",
   "metadata": {},
   "source": [
    "**Exercici 4:**\n",
    "  - Crea un diccionari de la següent forma i respon a les preguntes:\n",
    "    compra = { \"Pomes\" : {\"Qty\": 5, \"€\": 0.42}, \"Peres\" : {\"Qty\": 3, \"€\": 0.66} }\n",
    "    - Afegeix alguna fruita més\n",
    "    - Quant han costat les peres en total?\n",
    "    - Quantes fruites hem comprat en total?\n",
    "    - Quina és la fruita més cara?"
   ]
  },
  {
   "cell_type": "code",
   "execution_count": 47,
   "id": "8ab98106",
   "metadata": {},
   "outputs": [
    {
     "data": {
      "text/plain": [
       "dict"
      ]
     },
     "execution_count": 47,
     "metadata": {},
     "output_type": "execute_result"
    }
   ],
   "source": [
    "compra = { \"Pomes\" : {\"Qty\": 5, \"€\": 0.42}, \"Peres\" : {\"Qty\": 3, \"€\": 0.66} }\n",
    "\n",
    "type(compra)"
   ]
  },
  {
   "cell_type": "code",
   "execution_count": 50,
   "id": "6b7822f7",
   "metadata": {},
   "outputs": [
    {
     "name": "stdout",
     "output_type": "stream",
     "text": [
      "{'Pomes': {'Qty': 5, '€': 0.42}, 'Peres': {'Qty': 3, '€': 0.66}, 'Kiwis': {'Qty': 1, '€': 1}}\n"
     ]
    }
   ],
   "source": [
    "compra[\"Kiwis\"]={\"Qty\":1, \"€\":1}\n",
    "\n",
    "print(compra)"
   ]
  },
  {
   "cell_type": "code",
   "execution_count": 60,
   "id": "8358253d",
   "metadata": {},
   "outputs": [
    {
     "name": "stdout",
     "output_type": "stream",
     "text": [
      "The total amount of pears are 1.98 €.\n"
     ]
    }
   ],
   "source": [
    "totalPeres=compra[\"Peres\"][\"Qty\"]*compra[\"Peres\"][\"€\"]\n",
    "\n",
    "print(f\"The total amount of pears are {totalPeres} €.\")"
   ]
  },
  {
   "cell_type": "code",
   "execution_count": 68,
   "id": "3eeb662e",
   "metadata": {},
   "outputs": [
    {
     "name": "stdout",
     "output_type": "stream",
     "text": [
      "The total bought fruit are 9.\n"
     ]
    }
   ],
   "source": [
    "totalFruit=0\n",
    " \n",
    "for fruit in compra:\n",
    "    totalFruit +=compra[fruit][\"Qty\"]\n",
    "\n",
    "\n",
    "print(f\"The total bought fruit are {totalFruit}.\")"
   ]
  },
  {
   "cell_type": "code",
   "execution_count": 77,
   "id": "30ae8b64",
   "metadata": {},
   "outputs": [
    {
     "name": "stdout",
     "output_type": "stream",
     "text": [
      "The most expensive fruit are Kiwis.\n"
     ]
    }
   ],
   "source": [
    "price=0\n",
    "\n",
    "for fruit in compra:\n",
    "    if (price < compra[fruit][\"€\"]):\n",
    "        expensiveFruit = fruit\n",
    "        \n",
    "print(f\"The most expensive fruit are {expensiveFruit}.\")"
   ]
  }
 ],
 "metadata": {
  "kernelspec": {
   "display_name": "Python 3 (ipykernel)",
   "language": "python",
   "name": "python3"
  },
  "language_info": {
   "codemirror_mode": {
    "name": "ipython",
    "version": 3
   },
   "file_extension": ".py",
   "mimetype": "text/x-python",
   "name": "python",
   "nbconvert_exporter": "python",
   "pygments_lexer": "ipython3",
   "version": "3.9.7"
  },
  "toc": {
   "base_numbering": 1,
   "nav_menu": {},
   "number_sections": true,
   "sideBar": true,
   "skip_h1_title": false,
   "title_cell": "Table of Contents",
   "title_sidebar": "Contents",
   "toc_cell": false,
   "toc_position": {},
   "toc_section_display": true,
   "toc_window_display": false
  }
 },
 "nbformat": 4,
 "nbformat_minor": 5
}
